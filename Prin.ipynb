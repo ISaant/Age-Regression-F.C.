{
 "cells": [
  {
   "cell_type": "code",
   "execution_count": 1,
   "metadata": {},
   "outputs": [],
   "source": [
    "import numpy as np\n",
    "import os\n",
    "import warnings\n",
    "warnings.simplefilter(action='ignore', category=FutureWarning)\n",
    "import pickle\n",
    "from Fun4CNNFc import *\n",
    "from read_Fc import read_Fc\n",
    "from Fun4RegCNN import *\n",
    "from sklearn.model_selection import train_test_split"
   ]
  },
  {
   "cell_type": "code",
   "execution_count": 2,
   "metadata": {},
   "outputs": [
    {
     "name": "stdout",
     "output_type": "stream",
     "text": [
      "camcan_AEC_ortho_AnteroPosterior\n",
      "Loading the Demographics and score table...\n"
     ]
    },
    {
     "name": "stderr",
     "output_type": "stream",
     "text": [
      "100%|██████████| 606/606 [00:24<00:00, 24.91it/s]\n"
     ]
    }
   ],
   "source": [
    "connectomes_fc = []\n",
    "ROIs = []\n",
    "scores = []\n",
    "\n",
    "#%%  Directories\n",
    "current_path = os.getcwd()\n",
    "#parentPath = os.path.abspath(os.path.join(current_path, '../../'))\n",
    "#D:/Docs/Encef/\n",
    "path2fc = \"camcan_AEC_ortho_AnteroPosterior\"\n",
    "print(path2fc)\n",
    "#path2demo = parentPath+'/NewThesis_db_DK/camcan_demographics/'\n",
    "FcFile = np.sort(os.listdir(path2fc))\n",
    "#demoFile = np.sort(os.listdir(path2demo))\n",
    "\n",
    "#%% Find nan values in the score dataframe\n",
    "# import Fun4newThesis\n",
    "# reload(Fun4newThesis)\n",
    "\n",
    "print('Loading the Demographics and score table...')\n",
    "with open(current_path+'/scoreDf_spanish.pickle', 'rb') as f:\n",
    "    scoreDf = pickle.load(f)\n",
    "\n",
    "#lets just keep age for now:\n",
    "# scoreDf.drop(columns=['Acer','BentonFaces','Cattell','EmotionRecog','Hotel','Ppp','Synsem','VSTM'],inplace=True)\n",
    "scoreDf.drop(columns=['BentonFaces','ReconocimientoEmociones', 'ForceMatch', 'Hotel', 'Ppp', 'Synsem',\n",
    "        'VSTM'],inplace=True)\n",
    "# scoreDf.drop(columns=['Acer','BentonFaces','Cattell','ReconocimientoEmociones', 'ForceMatch', 'Hotel', 'Ppp', 'Synsem',\n",
    "#         'VSTM'],inplace=True)\n",
    "row_idx=np.unique(np.where(np.isnan(scoreDf.iloc[:,3:-1].to_numpy()))[0])#rows where there is nan\n",
    "scoreDf_noNan=scoreDf.drop(row_idx).reset_index(drop=True)\n",
    "scoreDf_noNan=scoreDf_noNan.drop(np.argwhere(scoreDf_noNan['ID']=='sub_CC721434')[0][0]).reset_index(drop=True)# drop beacuase there is missing connections at the the struct connectomics\n",
    "#PltDistDemographics(scoreDf_noNan)\n",
    "edad=np.array(scoreDf_noNan['Edad']).reshape(-1,1)\n",
    "subjects=scoreDf_noNan['ID']\n",
    "\n",
    "# with open(current_path+'/scoreDf.pickle', 'rb') as f:\n",
    "#     scoreDf_old = pickle.load(f)\n",
    "# subjects_old=scoreDf_old['ID']\n",
    "# row_idx=[np.argwhere(subjects_old == missing)[0][0] for missing in list(set(subjects_old).difference(set(subjects)))] #Esto solo funciona para las matrices que te paso jason\n",
    "\n",
    "# sleep(1)\n",
    "# plt.close('all')\n",
    "\n",
    "#%% Read Fc\n",
    "connectomes_fc, ROIs = read_Fc(FcFile,path2fc, subjects,thresholding='MST', per=10) #nt = no threshold\n",
    "connectome = connectomes_fc['beta']\n",
    "connectome = (connectome/(np.max(connectome, axis=None)))[:,:,:,np.newaxis]\n",
    "input_shape = connectome.shape[1:4]\n",
    "x_train, x_test, y_train, y_test = train_test_split(connectome, edad, test_size=.2)"
   ]
  },
  {
   "cell_type": "code",
   "execution_count": 3,
   "metadata": {},
   "outputs": [
    {
     "name": "stdout",
     "output_type": "stream",
     "text": [
      "Epoch 1/30\n",
      "23/23 [==============================] - 6s 175ms/step - loss: 3113.5251 - mae: 52.7259 - val_loss: 2910.9744 - val_mae: 51.0632\n",
      "Epoch 2/30\n",
      "23/23 [==============================] - 4s 164ms/step - loss: 3042.2058 - mae: 52.0732 - val_loss: 2867.7053 - val_mae: 50.6298\n",
      "Epoch 3/30\n",
      "23/23 [==============================] - 3s 147ms/step - loss: 2996.9165 - mae: 51.6317 - val_loss: 2830.4639 - val_mae: 50.2597\n",
      "Epoch 4/30\n",
      "23/23 [==============================] - 3s 147ms/step - loss: 2951.7483 - mae: 51.1991 - val_loss: 2783.2605 - val_mae: 49.7877\n",
      "Epoch 5/30\n",
      "23/23 [==============================] - 4s 157ms/step - loss: 2907.9717 - mae: 50.7656 - val_loss: 2730.6213 - val_mae: 49.2564\n",
      "Epoch 6/30\n",
      "23/23 [==============================] - 4s 160ms/step - loss: 2864.3057 - mae: 50.3363 - val_loss: 2677.6641 - val_mae: 48.7161\n",
      "Epoch 7/30\n",
      "23/23 [==============================] - 4s 165ms/step - loss: 2821.5510 - mae: 49.9086 - val_loss: 2625.8203 - val_mae: 48.1815\n",
      "Epoch 8/30\n",
      "23/23 [==============================] - 4s 163ms/step - loss: 2779.1389 - mae: 49.4828 - val_loss: 2575.6223 - val_mae: 47.6581\n",
      "Epoch 9/30\n",
      "23/23 [==============================] - 4s 156ms/step - loss: 2737.4424 - mae: 49.0597 - val_loss: 2527.0698 - val_mae: 47.1464\n",
      "Epoch 10/30\n",
      "23/23 [==============================] - 4s 160ms/step - loss: 2696.3328 - mae: 48.6379 - val_loss: 2480.5322 - val_mae: 46.6507\n",
      "Epoch 11/30\n",
      "23/23 [==============================] - 4s 164ms/step - loss: 2655.7261 - mae: 48.2195 - val_loss: 2435.6890 - val_mae: 46.1679\n",
      "Epoch 12/30\n",
      "23/23 [==============================] - 3s 150ms/step - loss: 2615.4861 - mae: 47.8037 - val_loss: 2392.3608 - val_mae: 45.6965\n",
      "Epoch 13/30\n",
      "23/23 [==============================] - 4s 158ms/step - loss: 2575.8931 - mae: 47.3886 - val_loss: 2350.3521 - val_mae: 45.2347\n",
      "Epoch 14/30\n",
      "23/23 [==============================] - 4s 169ms/step - loss: 2536.8376 - mae: 46.9718 - val_loss: 2309.5349 - val_mae: 44.7813\n",
      "Epoch 15/30\n",
      "23/23 [==============================] - 3s 152ms/step - loss: 2498.0593 - mae: 46.5595 - val_loss: 2270.5239 - val_mae: 44.3436\n",
      "Epoch 16/30\n",
      "23/23 [==============================] - 4s 161ms/step - loss: 2460.0942 - mae: 46.1495 - val_loss: 2232.4326 - val_mae: 43.9119\n",
      "Epoch 17/30\n",
      "23/23 [==============================] - 4s 157ms/step - loss: 2422.5659 - mae: 45.7407 - val_loss: 2195.3718 - val_mae: 43.4878\n",
      "Epoch 18/30\n",
      "23/23 [==============================] - 3s 152ms/step - loss: 2385.5835 - mae: 45.3328 - val_loss: 2159.1021 - val_mae: 43.0686\n",
      "Epoch 19/30\n",
      "23/23 [==============================] - 4s 154ms/step - loss: 2349.1460 - mae: 44.9230 - val_loss: 2123.6013 - val_mae: 42.6544\n",
      "Epoch 20/30\n",
      "23/23 [==============================] - 4s 154ms/step - loss: 2312.7673 - mae: 44.5221 - val_loss: 2089.4504 - val_mae: 42.2521\n",
      "Epoch 21/30\n",
      "23/23 [==============================] - 3s 149ms/step - loss: 2277.1797 - mae: 44.1243 - val_loss: 2055.8369 - val_mae: 41.8523\n",
      "Epoch 22/30\n",
      "23/23 [==============================] - 4s 169ms/step - loss: 2242.2297 - mae: 43.7229 - val_loss: 2022.2180 - val_mae: 41.4486\n",
      "Epoch 23/30\n",
      "23/23 [==============================] - 4s 177ms/step - loss: 2207.3445 - mae: 43.3247 - val_loss: 1989.3005 - val_mae: 41.0496\n",
      "Epoch 24/30\n",
      "23/23 [==============================] - 3s 147ms/step - loss: 2173.1099 - mae: 42.9254 - val_loss: 1956.8344 - val_mae: 40.6521\n",
      "Epoch 25/30\n",
      "23/23 [==============================] - 3s 146ms/step - loss: 2139.3179 - mae: 42.5292 - val_loss: 1924.8400 - val_mae: 40.2567\n",
      "Epoch 26/30\n",
      "23/23 [==============================] - 3s 139ms/step - loss: 2106.0715 - mae: 42.1336 - val_loss: 1893.2411 - val_mae: 39.8623\n",
      "Epoch 27/30\n",
      "23/23 [==============================] - 3s 146ms/step - loss: 2072.9907 - mae: 41.7432 - val_loss: 1862.4564 - val_mae: 39.4742\n",
      "Epoch 28/30\n",
      "23/23 [==============================] - 4s 164ms/step - loss: 2040.6738 - mae: 41.3560 - val_loss: 1831.9091 - val_mae: 39.0854\n",
      "Epoch 29/30\n",
      "23/23 [==============================] - 4s 161ms/step - loss: 2008.6913 - mae: 40.9667 - val_loss: 1801.7294 - val_mae: 38.6974\n",
      "Epoch 30/30\n",
      "23/23 [==============================] - 4s 179ms/step - loss: 1977.2045 - mae: 40.5800 - val_loss: 1772.0126 - val_mae: 38.3115\n"
     ]
    }
   ],
   "source": [
    "# Create the model\n",
    "model = CNN_Diego(input_shape)\n",
    "# Compile the model\n",
    "model.compile(optimizer=Adam(learning_rate=.001), loss='mean_squared_error', metrics=['mae'])\n",
    "# Train the model\n",
    "history = model.fit(x_train, y_train, epochs=30, batch_size=16, validation_split=0.2)"
   ]
  },
  {
   "cell_type": "code",
   "execution_count": 4,
   "metadata": {},
   "outputs": [
    {
     "name": "stdout",
     "output_type": "stream",
     "text": [
      "Loss as Mean squared error from neural net:  1848.737060546875\n",
      "Mean absolute error from neural net:  38.731407165527344\n",
      "4/4 [==============================] - 0s 46ms/step\n"
     ]
    },
    {
     "data": {
      "image/png": "[encoded data removed]",
      "text/plain": [
       "<Figure size 640x480 with 1 Axes>"
      ]
     },
     "metadata": {},
     "output_type": "display_data"
    },
    {
     "name": "stdout",
     "output_type": "stream",
     "text": [
      "-0.10607229253479082\n"
     ]
    }
   ],
   "source": [
    "# Evaluate the model\n",
    "predictions = evaluateRegModel(model,x_test,y_test)\n",
    "predictions=predictions.ravel()\n",
    "y_test=y_test.ravel()\n",
    "acc = plotPredictionsReg(predictions,y_test,True)\n",
    "print (acc)"
   ]
  },
  {
   "cell_type": "code",
   "execution_count": 5,
   "metadata": {},
   "outputs": [
    {
     "name": "stdout",
     "output_type": "stream",
     "text": [
      "(68, 68, 1)\n"
     ]
    }
   ],
   "source": [
    "print(input_shape)"
   ]
  }
 ],
 "metadata": {
  "kernelspec": {
   "display_name": "Python 3",
   "language": "python",
   "name": "python3"
  },
  "language_info": {
   "codemirror_mode": {
    "name": "ipython",
    "version": 3
   },
   "file_extension": ".py",
   "mimetype": "text/x-python",
   "name": "python",
   "nbconvert_exporter": "python",
   "pygments_lexer": "ipython3",
   "version": "3.11.5"
  }
 },
 "nbformat": 4,
 "nbformat_minor": 2
}
